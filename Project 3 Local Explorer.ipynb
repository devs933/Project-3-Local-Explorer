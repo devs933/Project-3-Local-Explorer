{
 "cells": [
  {
   "cell_type": "markdown",
   "id": "172352df",
   "metadata": {},
   "source": [
    "## Creating Dummy Dataset"
   ]
  },
  {
   "cell_type": "code",
   "execution_count": 1,
   "id": "d894f19d",
   "metadata": {},
   "outputs": [],
   "source": [
    "import pandas as pd\n",
    "import random\n",
    "import numpy as np\n",
    "\n",
    "# preferences and activities for users and guides\n",
    "PREFERENCES = ['historical', 'adventure', 'beaches', 'nature', 'museums', 'art', 'hiking', 'food', 'shopping']\n",
    "\n",
    "# Generating 200 users with random preferences and budgets\n",
    "def generate_users(n):\n",
    "    users = []\n",
    "    for i in range(1, n + 1):\n",
    "        name = f\"User_{i}\"\n",
    "        preferences = random.sample(PREFERENCES, random.randint(2, 4)) \n",
    "        budget = random.randint(500, 3000) \n",
    "        users.append({'user_id': i, 'name': name, 'preferences': preferences, 'budget': budget, 'itinerary': []})\n",
    "    return pd.DataFrame(users)\n",
    "\n",
    "# Generating 50 guides with random knowledge and prices\n",
    "def generate_guides(n):\n",
    "    guides = []\n",
    "    for i in range(1, n + 1):\n",
    "        name = f\"Guide_{i}\"\n",
    "        knowledge = random.sample(PREFERENCES, random.randint(2, 3)) \n",
    "        rating = round(random.uniform(3.5, 5.0), 1) \n",
    "        price_per_day = random.randint(150, 1000)  \n",
    "        guides.append({'guide_id': i, 'name': name, 'knowledge': knowledge, 'rating': rating, 'price_per_day': price_per_day})\n",
    "    return pd.DataFrame(guides)\n",
    "\n",
    "# Creating data for 200 users and 50 guides\n",
    "users_data = generate_users(200)\n",
    "guides_data = generate_guides(50)\n"
   ]
  },
  {
   "cell_type": "code",
   "execution_count": 2,
   "id": "f33ae96c",
   "metadata": {},
   "outputs": [
    {
     "data": {
      "text/html": [
       "<div>\n",
       "<style scoped>\n",
       "    .dataframe tbody tr th:only-of-type {\n",
       "        vertical-align: middle;\n",
       "    }\n",
       "\n",
       "    .dataframe tbody tr th {\n",
       "        vertical-align: top;\n",
       "    }\n",
       "\n",
       "    .dataframe thead th {\n",
       "        text-align: right;\n",
       "    }\n",
       "</style>\n",
       "<table border=\"1\" class=\"dataframe\">\n",
       "  <thead>\n",
       "    <tr style=\"text-align: right;\">\n",
       "      <th></th>\n",
       "      <th>user_id</th>\n",
       "      <th>name</th>\n",
       "      <th>preferences</th>\n",
       "      <th>budget</th>\n",
       "      <th>itinerary</th>\n",
       "    </tr>\n",
       "  </thead>\n",
       "  <tbody>\n",
       "    <tr>\n",
       "      <th>0</th>\n",
       "      <td>1</td>\n",
       "      <td>User_1</td>\n",
       "      <td>[shopping, food, nature, art]</td>\n",
       "      <td>1800</td>\n",
       "      <td>[]</td>\n",
       "    </tr>\n",
       "    <tr>\n",
       "      <th>1</th>\n",
       "      <td>2</td>\n",
       "      <td>User_2</td>\n",
       "      <td>[nature, food]</td>\n",
       "      <td>1702</td>\n",
       "      <td>[]</td>\n",
       "    </tr>\n",
       "    <tr>\n",
       "      <th>2</th>\n",
       "      <td>3</td>\n",
       "      <td>User_3</td>\n",
       "      <td>[food, adventure, museums]</td>\n",
       "      <td>1679</td>\n",
       "      <td>[]</td>\n",
       "    </tr>\n",
       "    <tr>\n",
       "      <th>3</th>\n",
       "      <td>4</td>\n",
       "      <td>User_4</td>\n",
       "      <td>[historical, art, food, adventure]</td>\n",
       "      <td>779</td>\n",
       "      <td>[]</td>\n",
       "    </tr>\n",
       "    <tr>\n",
       "      <th>4</th>\n",
       "      <td>5</td>\n",
       "      <td>User_5</td>\n",
       "      <td>[beaches, museums, food, historical]</td>\n",
       "      <td>2850</td>\n",
       "      <td>[]</td>\n",
       "    </tr>\n",
       "  </tbody>\n",
       "</table>\n",
       "</div>"
      ],
      "text/plain": [
       "   user_id    name                           preferences  budget itinerary\n",
       "0        1  User_1         [shopping, food, nature, art]    1800        []\n",
       "1        2  User_2                        [nature, food]    1702        []\n",
       "2        3  User_3            [food, adventure, museums]    1679        []\n",
       "3        4  User_4    [historical, art, food, adventure]     779        []\n",
       "4        5  User_5  [beaches, museums, food, historical]    2850        []"
      ]
     },
     "execution_count": 2,
     "metadata": {},
     "output_type": "execute_result"
    }
   ],
   "source": [
    "users_data.head()"
   ]
  },
  {
   "cell_type": "code",
   "execution_count": 3,
   "id": "f95da26b",
   "metadata": {},
   "outputs": [
    {
     "data": {
      "text/html": [
       "<div>\n",
       "<style scoped>\n",
       "    .dataframe tbody tr th:only-of-type {\n",
       "        vertical-align: middle;\n",
       "    }\n",
       "\n",
       "    .dataframe tbody tr th {\n",
       "        vertical-align: top;\n",
       "    }\n",
       "\n",
       "    .dataframe thead th {\n",
       "        text-align: right;\n",
       "    }\n",
       "</style>\n",
       "<table border=\"1\" class=\"dataframe\">\n",
       "  <thead>\n",
       "    <tr style=\"text-align: right;\">\n",
       "      <th></th>\n",
       "      <th>guide_id</th>\n",
       "      <th>name</th>\n",
       "      <th>knowledge</th>\n",
       "      <th>rating</th>\n",
       "      <th>price_per_day</th>\n",
       "    </tr>\n",
       "  </thead>\n",
       "  <tbody>\n",
       "    <tr>\n",
       "      <th>0</th>\n",
       "      <td>1</td>\n",
       "      <td>Guide_1</td>\n",
       "      <td>[historical, museums, shopping]</td>\n",
       "      <td>4.8</td>\n",
       "      <td>950</td>\n",
       "    </tr>\n",
       "    <tr>\n",
       "      <th>1</th>\n",
       "      <td>2</td>\n",
       "      <td>Guide_2</td>\n",
       "      <td>[hiking, art, adventure]</td>\n",
       "      <td>4.7</td>\n",
       "      <td>550</td>\n",
       "    </tr>\n",
       "    <tr>\n",
       "      <th>2</th>\n",
       "      <td>3</td>\n",
       "      <td>Guide_3</td>\n",
       "      <td>[shopping, food, beaches]</td>\n",
       "      <td>4.2</td>\n",
       "      <td>482</td>\n",
       "    </tr>\n",
       "    <tr>\n",
       "      <th>3</th>\n",
       "      <td>4</td>\n",
       "      <td>Guide_4</td>\n",
       "      <td>[food, art]</td>\n",
       "      <td>3.9</td>\n",
       "      <td>928</td>\n",
       "    </tr>\n",
       "    <tr>\n",
       "      <th>4</th>\n",
       "      <td>5</td>\n",
       "      <td>Guide_5</td>\n",
       "      <td>[hiking, beaches]</td>\n",
       "      <td>3.9</td>\n",
       "      <td>405</td>\n",
       "    </tr>\n",
       "  </tbody>\n",
       "</table>\n",
       "</div>"
      ],
      "text/plain": [
       "   guide_id     name                        knowledge  rating  price_per_day\n",
       "0         1  Guide_1  [historical, museums, shopping]     4.8            950\n",
       "1         2  Guide_2         [hiking, art, adventure]     4.7            550\n",
       "2         3  Guide_3        [shopping, food, beaches]     4.2            482\n",
       "3         4  Guide_4                      [food, art]     3.9            928\n",
       "4         5  Guide_5                [hiking, beaches]     3.9            405"
      ]
     },
     "execution_count": 3,
     "metadata": {},
     "output_type": "execute_result"
    }
   ],
   "source": [
    "guides_data.head()"
   ]
  },
  {
   "cell_type": "markdown",
   "id": "b4cceb50",
   "metadata": {},
   "source": [
    "##  User Registration and Profile Setup"
   ]
  },
  {
   "cell_type": "code",
   "execution_count": 6,
   "id": "ff4924e9",
   "metadata": {},
   "outputs": [
    {
     "name": "stdout",
     "output_type": "stream",
     "text": [
      "User Vivek registered successfully!\n"
     ]
    }
   ],
   "source": [
    "def register_user(name, preferences, budget):\n",
    "    global users_data \n",
    "    new_user_id = users_data['user_id'].max() + 1\n",
    "    new_user = pd.DataFrame([{'user_id': new_user_id, 'name': name, 'preferences': preferences, 'budget': budget, \n",
    "                              'itinerary': []}])\n",
    "    users_data = pd.concat([users_data, new_user], ignore_index=True)\n",
    "    print(f\"User {name} registered successfully!\")\n",
    "\n",
    "# Register a new user\n",
    "register_user('Vivek', ['historical', 'adventure'], 1200)\n"
   ]
  },
  {
   "cell_type": "markdown",
   "id": "d24f6f01",
   "metadata": {},
   "source": [
    "## Itinerary Planning"
   ]
  },
  {
   "cell_type": "code",
   "execution_count": 7,
   "id": "4e044517",
   "metadata": {},
   "outputs": [
    {
     "name": "stdout",
     "output_type": "stream",
     "text": [
      "Itinerary for user 1 created successfully!\n",
      "Itinerary for user 2 created successfully!\n"
     ]
    }
   ],
   "source": [
    "def create_itinerary(user_id, destinations, activities):\n",
    "    # Create the itinerary as a list of destinations and activities\n",
    "    itinerary = {'destinations': destinations, 'activities': activities}\n",
    "    \n",
    "    # Find the user by user_id and update their itinerary with a dictionary\n",
    "    users_data.loc[users_data['user_id'] == user_id, 'itinerary'] = [itinerary]\n",
    "    \n",
    "    print(f\"Itinerary for user {user_id} created successfully!\")\n",
    "\n",
    "# Example 1: sam plans a trip\n",
    "create_itinerary(1, ['Paris', 'Rome'], ['museum', 'hiking'])\n",
    "\n",
    "\n",
    "# Example 2: john plans a trip\n",
    "create_itinerary(2, ['Jaipur', 'Goa'], ['historical', 'beaches'])\n",
    "\n",
    "\n"
   ]
  },
  {
   "cell_type": "code",
   "execution_count": 8,
   "id": "9cbbdcb0",
   "metadata": {},
   "outputs": [
    {
     "name": "stdout",
     "output_type": "stream",
     "text": [
      "\n",
      "User User_1's itinerary:\n",
      "{\n",
      "    \"destinations\": [\n",
      "        \"Paris\",\n",
      "        \"Rome\"\n",
      "    ],\n",
      "    \"activities\": [\n",
      "        \"museum\",\n",
      "        \"hiking\"\n",
      "    ]\n",
      "}\n",
      "\n",
      "User User_2's itinerary:\n",
      "{\n",
      "    \"destinations\": [\n",
      "        \"Jaipur\",\n",
      "        \"Goa\"\n",
      "    ],\n",
      "    \"activities\": [\n",
      "        \"historical\",\n",
      "        \"beaches\"\n",
      "    ]\n",
      "}\n"
     ]
    }
   ],
   "source": [
    "import json\n",
    "# Function to display user itineraries\n",
    "def display_itinerary(user_id):\n",
    "    user_itinerary = users_data[users_data['user_id'] == user_id]\n",
    "    if not user_itinerary.empty:\n",
    "        print(f\"\\nUser {user_itinerary.iloc[0]['name']}'s itinerary:\")\n",
    "        print(json.dumps(user_itinerary.iloc[0]['itinerary'], indent=4))\n",
    "    else:\n",
    "        print(f\"\\nNo itinerary found for user {user_id}\")\n",
    "\n",
    "# Display the data for User 1\n",
    "display_itinerary(1)\n",
    "\n",
    "# Display the data for User 2\n",
    "display_itinerary(2)"
   ]
  },
  {
   "cell_type": "markdown",
   "id": "60496456",
   "metadata": {},
   "source": [
    "## Local Guide Matching Algorithm"
   ]
  },
  {
   "cell_type": "code",
   "execution_count": 9,
   "id": "d3877646",
   "metadata": {},
   "outputs": [
    {
     "name": "stdout",
     "output_type": "stream",
     "text": [
      "User: User_5 (User ID: 5)\n",
      "Preferences: ['beaches', 'museums', 'food', 'historical']\n",
      "Budget: 2850\n",
      "\n",
      "Top Matching Guides:\n",
      "\n",
      "Guide: Guide_14 (Guide ID: 14)\n",
      "Knowledge: ['beaches', 'shopping', 'food']\n",
      "Rating: 4.6, Price per day: 201, Score: 2.02\n",
      "----------------------------------------\n",
      "Guide: Guide_31 (Guide ID: 31)\n",
      "Knowledge: ['historical', 'museums']\n",
      "Rating: 3.8, Price per day: 260, Score: 2.01\n",
      "----------------------------------------\n",
      "Guide: Guide_10 (Guide ID: 10)\n",
      "Knowledge: ['beaches', 'food', 'hiking']\n",
      "Rating: 4.4, Price per day: 363, Score: 2.01\n",
      "----------------------------------------\n",
      "Guide: Guide_34 (Guide ID: 34)\n",
      "Knowledge: ['adventure', 'food', 'historical']\n",
      "Rating: 3.6, Price per day: 309, Score: 2.01\n",
      "----------------------------------------\n",
      "Guide: Guide_28 (Guide ID: 28)\n",
      "Knowledge: ['historical', 'nature', 'beaches']\n",
      "Rating: 3.9, Price per day: 362, Score: 2.01\n",
      "----------------------------------------\n"
     ]
    }
   ],
   "source": [
    "def match_guides(user_id):\n",
    "    user = users_data[users_data['user_id'] == user_id].iloc[0]\n",
    "    user_preferences = set(user['preferences'])\n",
    "    budget = user['budget']\n",
    "    \n",
    "    print(f\"User: {user['name']} (User ID: {user_id})\")\n",
    "    print(f\"Preferences: {user['preferences']}\")\n",
    "    print(f\"Budget: {budget}\")\n",
    "    print(\"\\nTop Matching Guides:\\n\")\n",
    "    \n",
    "   \n",
    "    matching_guides = []\n",
    "    \n",
    "    for _, guide in guides_data.iterrows():\n",
    "        guide_knowledge = set(guide['knowledge'])\n",
    "        \n",
    "        # Match based on knowledge overlap and budget constraints\n",
    "        if user_preferences.intersection(guide_knowledge) and guide['price_per_day'] <= budget:\n",
    "            # Calculate score: preference match + rating/price ratio (custom ranking)\n",
    "            knowledge_overlap = len(user_preferences.intersection(guide_knowledge)) \n",
    "            price_rating_ratio = guide['rating'] / guide['price_per_day'] \n",
    "            \n",
    "            score = knowledge_overlap + price_rating_ratio  # Custom score based on overlap and affordability\n",
    "            \n",
    "            matching_guides.append({\n",
    "                'guide_id': guide['guide_id'],\n",
    "                'name': guide['name'],\n",
    "                'knowledge': guide['knowledge'],\n",
    "                'rating': guide['rating'],\n",
    "                'price_per_day': guide['price_per_day'],\n",
    "                'score': score\n",
    "            })\n",
    "    \n",
    "  \n",
    "    if matching_guides:\n",
    "        # Sort guides first by score (descending), then by rating (descending), and finally by price (ascending)\n",
    "        sorted_guides = sorted(matching_guides, key=lambda x: (-x['score'], -x['rating'], x['price_per_day']))\n",
    "        top_guides = sorted_guides[:5]  # Limit to top 5 matches\n",
    "        \n",
    "        for guide in top_guides:\n",
    "            print(f\"Guide: {guide['name']} (Guide ID: {guide['guide_id']})\")\n",
    "            print(f\"Knowledge: {guide['knowledge']}\")\n",
    "            print(f\"Rating: {guide['rating']}, Price per day: {guide['price_per_day']}, Score: {guide['score']:.2f}\")\n",
    "            print(\"-\" * 40)\n",
    "    else:\n",
    "        print(f\"No matching guides found for {user['name']}\")\n",
    "\n",
    "# Example: Match guides for a user with ID 5\n",
    "match_guides(5)\n"
   ]
  },
  {
   "cell_type": "markdown",
   "id": "9deed0fd",
   "metadata": {},
   "source": [
    "## Feedback and Reviews"
   ]
  },
  {
   "cell_type": "code",
   "execution_count": 10,
   "id": "2509ceb2",
   "metadata": {},
   "outputs": [
    {
     "name": "stdout",
     "output_type": "stream",
     "text": [
      "New rating for guide Guide_8: 4.55\n"
     ]
    }
   ],
   "source": [
    "def leave_review(guide_id, rating):\n",
    "    global guides_data\n",
    "    \n",
    "    # Check if the guide exists\n",
    "    guide = guides_data[guides_data['guide_id'] == guide_id]\n",
    "    \n",
    "    if not guide.empty:\n",
    "        # Proceed if the guide exists\n",
    "        guide = guide.iloc[0]  # Get the first (and only) matching guide\n",
    "        new_rating = round((guide['rating'] + rating) / 2,2)\n",
    "        guides_data.loc[guides_data['guide_id'] == guide_id, 'rating'] = new_rating\n",
    "        print(f\"New rating for guide {guide['name']}: {new_rating}\")\n",
    "    else:\n",
    "        print(f\"No guide found with guide_id {guide_id}\")\n",
    "\n",
    "# Example: \n",
    "leave_review(8, 4.7)\n"
   ]
  },
  {
   "cell_type": "code",
   "execution_count": null,
   "id": "f8a9d3a4",
   "metadata": {},
   "outputs": [],
   "source": []
  }
 ],
 "metadata": {
  "kernelspec": {
   "display_name": "Python 3 (ipykernel)",
   "language": "python",
   "name": "python3"
  },
  "language_info": {
   "codemirror_mode": {
    "name": "ipython",
    "version": 3
   },
   "file_extension": ".py",
   "mimetype": "text/x-python",
   "name": "python",
   "nbconvert_exporter": "python",
   "pygments_lexer": "ipython3",
   "version": "3.11.4"
  }
 },
 "nbformat": 4,
 "nbformat_minor": 5
}
